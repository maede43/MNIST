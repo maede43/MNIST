{
 "cells": [
  {
   "cell_type": "markdown",
   "metadata": {},
   "source": [
    "<div style=\"direction:rtl;line-height:300%;\"> <font face=\"XB Zar\">\n",
    "<div align=center>\n",
    "    <div style=\"font-size:14px\">\n",
    "    به نام خدا\n",
    "    </div><br>\n",
    "    <strong><div style=\"font-size:50px; color: blue\">\n",
    "    ci - hw3\n",
    "    </div></strong>\n",
    "    <br>\n",
    "    <div style=\"font-size:20px; color: #ff6600\">\n",
    "    مائده نادهی 9712762238\n",
    "    </div>\n",
    "</div>\n",
    "<hr>"
   ]
  },
  {
   "cell_type": "code",
   "execution_count": 47,
   "metadata": {
    "id": "dLySjGJK0Jy3"
   },
   "outputs": [],
   "source": [
    "import math, time \n",
    "import matplotlib.pyplot as plt\n",
    "import numpy as np \n",
    "import pandas as pd\n",
    "import seaborn as sns\n",
    "from sklearn import metrics\n",
    "from sklearn.preprocessing import StandardScaler\n",
    "from sklearn.model_selection import GridSearchCV\n",
    "from sklearn.svm import SVC\n",
    "from sklearn.pipeline import Pipeline"
   ]
  },
  {
   "cell_type": "code",
   "execution_count": 1,
   "metadata": {
    "colab": {
     "base_uri": "https://localhost:8080/"
    },
    "id": "uVaQ3yxI0Tte",
    "outputId": "93abc8ea-1738-4d1d-c75a-6c8408674634"
   },
   "outputs": [
    {
     "name": "stdout",
     "output_type": "stream",
     "text": [
      "Mounted at /content/drive\n"
     ]
    }
   ],
   "source": [
    "from google.colab import drive\n",
    "drive.mount('/content/drive')"
   ]
  },
  {
   "cell_type": "code",
   "execution_count": 3,
   "metadata": {
    "colab": {
     "base_uri": "https://localhost:8080/"
    },
    "id": "3WQrspv60VVx",
    "outputId": "d4cd7422-6eb3-4af6-ec86-a25ac9a76ba7"
   },
   "outputs": [
    {
     "name": "stdout",
     "output_type": "stream",
     "text": [
      "Archive:  /content/drive/MyDrive/MNIST dataset - train.zip\n",
      "  inflating: train_label.csv         \n",
      "  inflating: train_set.csv           \n",
      "Archive:  /content/drive/MyDrive/MNIST dataset - test.zip\n",
      "  inflating: test_label.csv          \n",
      "  inflating: test_set.csv            \n"
     ]
    }
   ],
   "source": [
    "!unzip '/content/drive/MyDrive/MNIST dataset - train.zip'\n",
    "!unzip '/content/drive/MyDrive/MNIST dataset - test.zip'"
   ]
  },
  {
   "cell_type": "code",
   "execution_count": 4,
   "metadata": {
    "id": "nbdh_9oy0XGR"
   },
   "outputs": [],
   "source": [
    "train_label = pd.read_csv(\"/content/train_label.csv\")\n",
    "train_label.rename(columns = {\"5\" : \"actual_labels\"}, inplace=True)\n",
    "train_label = train_label[\"actual_labels\"]\n",
    "train_set = pd.read_csv(\"/content/train_set.csv\")\n",
    "train_set.set_axis([i for i in range(0,784)], axis=1, inplace=True)\n",
    "test_set = pd.read_csv(\"/content/test_set.csv\")\n",
    "test_set.set_axis([i for i in range(0,784)], axis=1, inplace=True)\n",
    "test_label = pd.read_csv(\"/content/test_label.csv\")\n",
    "test_label = test_label[\"7\"]"
   ]
  },
  {
   "cell_type": "markdown",
   "metadata": {},
   "source": [
    "<div id=\"section1\" style=\"direction:rtl; font-size: 17px; font-family: 'XB Zar'; line-height: 200%\">\n",
    "<div style=\"font-size: 22px; color: #ff6600; font-weight: bold\">\n",
    "preprocessing\n",
    "</div>\n",
    "<hr>\n",
    "<div>\n",
    "ابتدا بررسی میکنیم داده ی غیر معتبر NULL و NAN نداشته باشیم :\n",
    "</div>\n",
    "</div>"
   ]
  },
  {
   "cell_type": "code",
   "execution_count": 48,
   "metadata": {
    "colab": {
     "base_uri": "https://localhost:8080/"
    },
    "id": "Ve66NT510Y8E",
    "outputId": "636202f6-714d-40fa-a57b-bda8116dfbc4"
   },
   "outputs": [
    {
     "name": "stdout",
     "output_type": "stream",
     "text": [
      "0\n",
      "0\n"
     ]
    }
   ],
   "source": [
    "# how many null?\n",
    "print(test_set.isnull().sum().isnull().sum(axis = 0))\n",
    "print(train_set.isnull().sum().isnull().sum(axis = 0))"
   ]
  },
  {
   "cell_type": "code",
   "execution_count": 49,
   "metadata": {
    "colab": {
     "base_uri": "https://localhost:8080/"
    },
    "id": "NWNcDKjj0uoQ",
    "outputId": "d143d2f4-e454-4335-d52e-4c6fab3b1c7c"
   },
   "outputs": [
    {
     "data": {
      "text/plain": [
       "(59999, 191)"
      ]
     },
     "execution_count": 49,
     "metadata": {},
     "output_type": "execute_result"
    }
   ],
   "source": [
    "con = train_set.std() > 0.4\n",
    "xtrain2 = train_set.loc[:, con]\n",
    "xtest2 = test_set.loc[:, con]\n",
    "xtrain2.shape"
   ]
  },
  {
   "cell_type": "markdown",
   "metadata": {},
   "source": [
    "<div id=\"section1\" style=\"direction:rtl; font-size: 17px; font-family: 'XB Zar'; line-height: 200%\">\n",
    "<hr>\n",
    "<div>\n",
    "    از بخش کوچکی از داده ها (xtrain_small) \n",
    "    برای بررسی و یافتن بهترین هایپرپارامتر استفاده میکنیم (درغیر اینصورت زمان زیادی برای آموزش لازم است. با همین تعداد داده یک     ساعت اجرای\n",
    "    ()grid.fit طول کشید.)\n",
    "</div>\n",
    "</div>"
   ]
  },
  {
   "cell_type": "code",
   "execution_count": 50,
   "metadata": {
    "id": "NQu3b6zm0wf3"
   },
   "outputs": [],
   "source": [
    "xtrain = train_set\n",
    "ytrain = train_label\n",
    "xtest = test_set\n",
    "ytest = test_label\n",
    "xtrain_small = xtrain[:3000]\n",
    "ytrain_small = ytrain[:3000]"
   ]
  },
  {
   "cell_type": "code",
   "execution_count": 51,
   "metadata": {
    "id": "FmLNKg3d0yXT"
   },
   "outputs": [],
   "source": [
    "def eval_metrics(description, y_true, y_pred):\n",
    "  print(description)\n",
    "  print('Accuracy: {:.2f}'.format(metrics.accuracy_score(y_true, y_pred)))\n",
    "  print('Rand Index: {:.2f}'.format(metrics.rand_score(y_true, y_pred)))\n",
    "  print('------------------------')"
   ]
  },
  {
   "cell_type": "markdown",
   "metadata": {},
   "source": [
    "<div id=\"section1\" style=\"direction:rtl; font-size: 17px; font-family: 'XB Zar'; line-height: 200%\">\n",
    "<hr>\n",
    "<div>\n",
    "  در زیر تعداد داده های هر کلاس را در کل دیتاست و xtrain_small بررسی میکنیم:\n",
    "</div>\n",
    "</div>"
   ]
  },
  {
   "cell_type": "code",
   "execution_count": 52,
   "metadata": {
    "colab": {
     "base_uri": "https://localhost:8080/",
     "height": 336
    },
    "id": "rX2c52IbqOnJ",
    "outputId": "6378c822-8d8b-4ebb-fbfc-fe0befcec710",
    "scrolled": true
   },
   "outputs": [
    {
     "name": "stderr",
     "output_type": "stream",
     "text": [
      "/usr/local/lib/python3.7/dist-packages/seaborn/_decorators.py:43: FutureWarning: Pass the following variable as a keyword arg: x. From version 0.12, the only valid positional argument will be `data`, and passing other arguments without an explicit keyword will result in an error or misinterpretation.\n",
      "  FutureWarning\n"
     ]
    },
    {
     "data": {
      "image/png": "[encoded data removed]",
      "text/plain": [
       "<Figure size 432x288 with 1 Axes>"
      ]
     },
     "metadata": {
      "needs_background": "light"
     },
     "output_type": "display_data"
    }
   ],
   "source": [
    "sns.countplot(ytrain_small)\n",
    "plt.show()"
   ]
  },
  {
   "cell_type": "code",
   "execution_count": 29,
   "metadata": {
    "colab": {
     "base_uri": "https://localhost:8080/",
     "height": 337
    },
    "id": "Ao9N5uRJ1D40",
    "outputId": "c447dd78-c9c9-4bc9-98a0-123692bec59f",
    "scrolled": true
   },
   "outputs": [
    {
     "name": "stderr",
     "output_type": "stream",
     "text": [
      "/usr/local/lib/python3.7/dist-packages/seaborn/_decorators.py:43: FutureWarning: Pass the following variable as a keyword arg: x. From version 0.12, the only valid positional argument will be `data`, and passing other arguments without an explicit keyword will result in an error or misinterpretation.\n",
      "  FutureWarning\n"
     ]
    },
    {
     "data": {
      "image/png": "[encoded data removed]",
      "text/plain": [
       "<Figure size 432x288 with 1 Axes>"
      ]
     },
     "metadata": {
      "needs_background": "light"
     },
     "output_type": "display_data"
    }
   ],
   "source": [
    "sns.countplot(ytrain)\n",
    "plt.show()"
   ]
  },
  {
   "cell_type": "markdown",
   "metadata": {},
   "source": [
    "<div id=\"section1\" style=\"direction:rtl; font-size: 17px; font-family: 'XB Zar'; line-height: 200%\">\n",
    "<div>\n",
    "  همانظور که مشاهده می شود داده ها به سمت عدد یک متمایل هستند و تعداد داده های با لیبل یک بیشتر از سایر داده هاست.\n",
    "</div>\n",
    "</div>\n",
    "<hr>"
   ]
  },
  {
   "cell_type": "markdown",
   "metadata": {},
   "source": [
    "\n",
    "<div id=\"section1\" style=\"direction:rtl; font-size: 17px; font-family: 'XB Zar'; line-height: 200%\">\n",
    "<div>\n",
    "   از پايپلاين براي اجراي پشت سر هم transformer(StandardScaler) و estimator(svm) استفاده میکنیم.\n",
    "    به طوری که خروجی transformer ورودی estimator می باشد. \n",
    "    و مزیتی که نسبت که اجرای پشت سر هم بدون استفاده از پایپلاین دارد این است که اگر از پایپلابن استفاده نکنیم  StandardScaler  روی کل داده های ترین اجرا میشود همه ی \n",
    "   آنها را باهم میبیند و میانگین همه ی این داده ها حذف میکند بنابراین \n",
    "   K-Folds cross-validator  به درستی اجرا نخواهد شد.\n",
    "    ولی اگر از پایپلاین استفاده شود \n",
    " StandardScaler مستقلا روی k دسته ی fold\n",
    "    (درینجا 5=k)\n",
    "    به طور جداگانه اجرا میشود بنابراین K-Folds cross-validator \n",
    "    به درستی اجرا میشود.\n",
    "</div>\n",
    "</div>"
   ]
  },
  {
   "cell_type": "code",
   "execution_count": 53,
   "metadata": {
    "id": "jV2wChmxXxRz"
   },
   "outputs": [],
   "source": [
    "steps = [('scaler', StandardScaler()), ('SVM', SVC())]\n",
    "pipeline = Pipeline(steps) "
   ]
  },
  {
   "cell_type": "code",
   "execution_count": 54,
   "metadata": {
    "id": "3kuLXLpEW-2e"
   },
   "outputs": [],
   "source": [
    "parameters = {'SVM__C':[0.001, 0.1, 100, 10e5], 'SVM__gamma':[10,1,0.1,0.01], 'SVM__degree': [2, 3, 4, 5], 'SVM__kernel': ['poly', 'rbf', 'linear', 'sigmoid']}\n",
    "grid = GridSearchCV(pipeline, param_grid=parameters, cv=5) "
   ]
  },
  {
   "cell_type": "code",
   "execution_count": 57,
   "metadata": {
    "colab": {
     "base_uri": "https://localhost:8080/"
    },
    "id": "LKz4kDuo1iyz",
    "outputId": "744ab9fb-bec3-4c15-f125-24f0857a3ca6",
    "scrolled": true
   },
   "outputs": [
    {
     "name": "stdout",
     "output_type": "stream",
     "text": [
      "score =  0.9973333333333333\n",
      "best parameters from train data:  {'SVM__C': 0.001, 'SVM__degree': 2, 'SVM__gamma': 0.1, 'SVM__kernel': 'poly'}\n"
     ]
    }
   ],
   "source": [
    "grid.fit(xtrain_small, ytrain_small)\n",
    "print(\"score = \", grid.score(xtrain_small, ytrain_small)) \n",
    "print(\"best parameters from train data: \", grid.best_params_)"
   ]
  },
  {
   "cell_type": "markdown",
   "metadata": {},
   "source": [
    "<div id=\"section1\" style=\"direction:rtl; font-size: 17px; font-family: 'XB Zar'; line-height: 200%\">\n",
    "<div>\n",
    "    بنابراین بهترین هایپرپارامتر های با accuracy برابر\n",
    "    <span style=\"color: red\">99درصد</span> \n",
    "   به قرار زیر است:\n",
    "     <br>\n",
    "    <ul style=\"margin-right: 0;\">\n",
    "    <li>پارامتر منظم سازی (C) - (اگر نویز دیتاست زیاد باشد باید C را کاهش دهیم تا منظم سازی بیشتر شود) : 0.001</li>\n",
    "    <li>ضریب کرنل (gamma) : 0.1</li>\n",
    "    <li>kernel : چندچمله ای</li>\n",
    "    <li>درجه ی چند جمله ای (degree) : 2</li>\n",
    "    </ul>\n",
    "</div>\n",
    "</div>\n",
    "<hr>"
   ]
  },
  {
   "cell_type": "markdown",
   "metadata": {},
   "source": [
    "C parameter : trades off misclassification of training examples against simplicity of the decision surface. A low C makes the decision surface smooth, while a high C aims at classifying all training examples correctly. "
   ]
  },
  {
   "cell_type": "code",
   "execution_count": 58,
   "metadata": {
    "id": "dRdpAsfM1lzk"
   },
   "outputs": [],
   "source": [
    "y_pred = grid.predict(xtest)"
   ]
  },
  {
   "cell_type": "code",
   "execution_count": 59,
   "metadata": {
    "colab": {
     "base_uri": "https://localhost:8080/"
    },
    "id": "RoHt2kWMYPVu",
    "outputId": "26709467-3cdd-4c06-c6c2-e273941ffb7a",
    "scrolled": false
   },
   "outputs": [
    {
     "name": "stdout",
     "output_type": "stream",
     "text": [
      "svm\n",
      "Accuracy: 0.92\n",
      "Rand Index: 0.97\n",
      "------------------------\n"
     ]
    }
   ],
   "source": [
    "eval_metrics(\"svm\", ytest ,y_pred)"
   ]
  },
  {
   "cell_type": "markdown",
   "metadata": {},
   "source": [
    "<div id=\"section1\" style=\"direction:rtl; font-size: 17px; font-family: 'XB Zar'; line-height: 200%\">\n",
    "<div>\n",
    "    مدل بدست آمده با استفاده از دیتاست کوچک روی داده های test دقتی برابر 92 درصد داد. \n",
    "</div>\n",
    "</div>"
   ]
  },
  {
   "cell_type": "markdown",
   "metadata": {},
   "source": [
    "<hr>\n",
    "<div id=\"section1\" style=\"direction:rtl; font-size: 17px; font-family: 'XB Zar'; line-height: 200%\">\n",
    "<div>\n",
    "    حال با هایپرپارامتر های بدست آمده مدل خود را با کل دیتاست آموزش میدهیم:\n",
    "</div>\n",
    "</div>"
   ]
  },
  {
   "cell_type": "code",
   "execution_count": 61,
   "metadata": {
    "id": "v5Vb-u4xuYXF"
   },
   "outputs": [],
   "source": [
    " from sklearn.pipeline import make_pipeline"
   ]
  },
  {
   "cell_type": "code",
   "execution_count": 62,
   "metadata": {
    "colab": {
     "base_uri": "https://localhost:8080/"
    },
    "id": "o44_hIZat1y9",
    "outputId": "4d125b9e-f611-4819-cb96-3fdac95581fd"
   },
   "outputs": [
    {
     "data": {
      "text/plain": [
       "Pipeline(steps=[('standardscaler', StandardScaler()),\n",
       "                ('svc', SVC(C=0.001, degree=2, gamma=0.1, kernel='poly'))])"
      ]
     },
     "execution_count": 62,
     "metadata": {},
     "output_type": "execute_result"
    }
   ],
   "source": [
    "clf = make_pipeline(StandardScaler(), SVC(C=0.001, degree=2, gamma=0.1, kernel='poly'))\n",
    "clf.fit(xtrain, ytrain)"
   ]
  },
  {
   "cell_type": "code",
   "execution_count": 64,
   "metadata": {
    "colab": {
     "base_uri": "https://localhost:8080/"
    },
    "id": "BB5JeD-9wkYJ",
    "outputId": "9ea1d69c-058d-4c43-f42e-e945633ac39b"
   },
   "outputs": [
    {
     "name": "stdout",
     "output_type": "stream",
     "text": [
      "svm - whole dataset\n",
      "Accuracy: 0.98\n",
      "Rand Index: 0.99\n",
      "------------------------\n"
     ]
    }
   ],
   "source": [
    "y_pred = clf.predict(xtest)\n",
    "eval_metrics(\"svm - whole dataset\", ytest ,y_pred)"
   ]
  },
  {
   "cell_type": "code",
   "execution_count": 65,
   "metadata": {
    "colab": {
     "base_uri": "https://localhost:8080/"
    },
    "id": "3MwaZbKmw3gD",
    "outputId": "0e4764fa-8098-4d4f-c403-d8586d5da474"
   },
   "outputs": [
    {
     "data": {
      "text/plain": [
       "Pipeline(steps=[('standardscaler', StandardScaler()),\n",
       "                ('svc', SVC(C=0.001, gamma=10, kernel='poly'))])"
      ]
     },
     "execution_count": 65,
     "metadata": {},
     "output_type": "execute_result"
    }
   ],
   "source": [
    "clf2 = make_pipeline(StandardScaler(), SVC(C=0.001, degree=3, gamma=10, kernel='poly'))\n",
    "clf2.fit(xtrain, ytrain)"
   ]
  },
  {
   "cell_type": "code",
   "execution_count": 66,
   "metadata": {
    "colab": {
     "base_uri": "https://localhost:8080/"
    },
    "id": "n04iUhpjxLOV",
    "outputId": "7a040515-96b3-4ac3-88f3-9f8059a88ac5"
   },
   "outputs": [
    {
     "name": "stdout",
     "output_type": "stream",
     "text": [
      "svm - whole dataset\n",
      "Accuracy: 0.98\n",
      "Rand Index: 0.99\n",
      "------------------------\n"
     ]
    }
   ],
   "source": [
    "y_pred = clf2.predict(xtest)\n",
    "eval_metrics(\"svm - whole dataset\", ytest ,y_pred)"
   ]
  },
  {
   "cell_type": "markdown",
   "metadata": {
    "id": "C5T15IyQ1LGl"
   },
   "source": [
    "<div id=\"section1\" style=\"direction:rtl; font-size: 17px; font-family: 'XB Zar'; line-height: 200%\">\n",
    "<div>\n",
    "    با آموزش دادن مدل توسط کل دیتاست همانطور که مشاهده میشود به accuracy برابر\n",
    "    <span style=\"color: red\">98درصد</span> \n",
    "    رسیدیم.\n",
    "</div>\n",
    "</div>\n",
    "<hr>"
   ]
  }
 ],
 "metadata": {
  "colab": {
   "collapsed_sections": [],
   "name": "CI-hw3.ipynb",
   "provenance": []
  },
  "kernelspec": {
   "display_name": "Python 3 (ipykernel)",
   "language": "python",
   "name": "python3"
  },
  "language_info": {
   "codemirror_mode": {
    "name": "ipython",
    "version": 3
   },
   "file_extension": ".py",
   "mimetype": "text/x-python",
   "name": "python",
   "nbconvert_exporter": "python",
   "pygments_lexer": "ipython3",
   "version": "3.9.7"
  }
 },
 "nbformat": 4,
 "nbformat_minor": 1
}
