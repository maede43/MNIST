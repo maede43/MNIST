{
 "cells": [
  {
   "cell_type": "markdown",
   "metadata": {},
   "source": [
    "<div style=\"direction:rtl;line-height:300%;\"> <font face=\"XB Zar\">\n",
    "<div align=center>\n",
    "    <div style=\"font-size:14px\">\n",
    "    به نام خدا\n",
    "    </div><br>\n",
    "    <strong><div style=\"font-size:50px; color: blue\">\n",
    "    ci - hw2\n",
    "    </div></strong>\n",
    "    <br>\n",
    "    <div style=\"font-size:20px; color: #ff6600\">\n",
    "    مائده نادهی 9712762238\n",
    "    </div>\n",
    "</div>\n",
    "<hr>"
   ]
  },
  {
   "cell_type": "markdown",
   "metadata": {},
   "source": [
    "<div style=\"direction:rtl; font-size: 17px; font-family: 'XB Zar'; line-height: 200%\">\n",
    "<div style=\"font-size: 22px; color: #ff6600; font-weight: bold\">\n",
    "فهرست محتویات\n",
    "</div>         \n",
    "<ul style=\"margin-right: 0;\">\n",
    "    <li><a href=\"#section1\">preprocessing</a></li>\n",
    "    <li><a href=\"#section2\">decision tree</a></li>\n",
    "</ul>\n",
    "</div>"
   ]
  },
  {
   "cell_type": "code",
   "execution_count": 1,
   "metadata": {
    "id": "hCHcs3x3ueK9"
   },
   "outputs": [],
   "source": [
    "import pandas as pd\n",
    "import numpy as np\n",
    "import time\n",
    "from sklearn.tree import DecisionTreeClassifier\n",
    "from sklearn import metrics"
   ]
  },
  {
   "cell_type": "code",
   "execution_count": 2,
   "metadata": {
    "colab": {
     "base_uri": "https://localhost:8080/"
    },
    "id": "KKOYss1wt_8Q",
    "outputId": "338225a9-f327-4704-8cbd-3cf5b195e870"
   },
   "outputs": [
    {
     "name": "stdout",
     "output_type": "stream",
     "text": [
      "Mounted at /content/drive\n"
     ]
    }
   ],
   "source": [
    "from google.colab import drive\n",
    "drive.mount('/content/drive')"
   ]
  },
  {
   "cell_type": "code",
   "execution_count": 3,
   "metadata": {
    "colab": {
     "base_uri": "https://localhost:8080/"
    },
    "id": "yunBVyCpuFuL",
    "outputId": "0dad456c-d050-436a-a425-c3b212f27f60"
   },
   "outputs": [
    {
     "name": "stdout",
     "output_type": "stream",
     "text": [
      "Archive:  /content/drive/MyDrive/MNIST dataset - train.zip\n",
      "  inflating: train_label.csv         \n",
      "  inflating: train_set.csv           \n",
      "Archive:  /content/drive/MyDrive/MNIST dataset - test.zip\n",
      "  inflating: test_label.csv          \n",
      "  inflating: test_set.csv            \n"
     ]
    }
   ],
   "source": [
    "!unzip '/content/drive/MyDrive/MNIST dataset - train.zip'\n",
    "!unzip '/content/drive/MyDrive/MNIST dataset - test.zip'"
   ]
  },
  {
   "cell_type": "code",
   "execution_count": 9,
   "metadata": {
    "id": "5hT_TtUeuZ3p"
   },
   "outputs": [],
   "source": [
    "train_label = pd.read_csv(\"/content/train_label.csv\")\n",
    "train_label.rename(columns = {\"5\" : \"actual_labels\"}, inplace=True)\n",
    "train_label = train_label[\"actual_labels\"]\n",
    "train_set = pd.read_csv(\"/content/train_set.csv\")\n",
    "train_set.set_axis([i for i in range(0,784)], axis=1, inplace=True)\n",
    "test_set = pd.read_csv(\"/content/test_set.csv\")\n",
    "test_set.set_axis([i for i in range(0,784)], axis=1, inplace=True)\n",
    "test_label = pd.read_csv(\"/content/test_label.csv\")\n",
    "test_label = test_label[\"7\"]"
   ]
  },
  {
   "cell_type": "markdown",
   "metadata": {},
   "source": [
    "<div id=\"section1\" style=\"direction:rtl; font-size: 17px; font-family: 'XB Zar'; line-height: 200%\">\n",
    "<div style=\"font-size: 22px; color: #ff6600; font-weight: bold\">\n",
    "preprocessing\n",
    "</div>\n",
    "<hr>\n",
    "<div>\n",
    "ابتدا بررسی میکنیم داده ی غیر معتبر NULL و NAN نداشته باشیم :\n",
    "</div>\n",
    "</div>"
   ]
  },
  {
   "cell_type": "code",
   "execution_count": 10,
   "metadata": {
    "colab": {
     "base_uri": "https://localhost:8080/"
    },
    "id": "AYh4F5N3uiY3",
    "outputId": "1328be3f-ce23-4293-e0c9-7b9cacc6b17c"
   },
   "outputs": [
    {
     "name": "stdout",
     "output_type": "stream",
     "text": [
      "0\n",
      "0\n"
     ]
    }
   ],
   "source": [
    "# how many null?\n",
    "print(test_set.isnull().sum().isnull().sum(axis = 0))\n",
    "print(train_set.isnull().sum().isnull().sum(axis = 0))"
   ]
  },
  {
   "cell_type": "markdown",
   "metadata": {},
   "source": [
    "<div style=\"direction:rtl; font-size: 17px; font-family: 'XB Zar'; line-height: 200%\">\n",
    "<div>\n",
    "   الگوریتم درخت تصمیم را برای دو نوع دیتاست اجرا میکنیم: 1. دیتاست بدون تغییر 2. دیتاست با تعداد فیچر های کمتر به این صورت که فیچر هایی را که انحراف معیار آنها کمتر از 0.4 را حذف میکنیم (چون پیکسل های بسیاری در همه ی عکس ها مقدار تقریبا یکسانی داشتند به طور مثال حدودا 60 پیکسل اطراف همگی مقدار 0 داشتند)\n",
    "</div>\n",
    "</div>"
   ]
  },
  {
   "cell_type": "code",
   "execution_count": 67,
   "metadata": {
    "colab": {
     "base_uri": "https://localhost:8080/"
    },
    "id": "9gfcXQAa5kSQ",
    "outputId": "e3cedbd1-bf78-4dfc-ad5d-1ce2d80d86ae"
   },
   "outputs": [
    {
     "data": {
      "text/plain": [
       "(59999, 191)"
      ]
     },
     "execution_count": 67,
     "metadata": {},
     "output_type": "execute_result"
    }
   ],
   "source": [
    "con = train_set.std() > 0.4\n",
    "xtrain2 = train_set.loc[:, con]\n",
    "xtest2 = test_set.loc[:, con]\n",
    "xtrain2.shape"
   ]
  },
  {
   "cell_type": "markdown",
   "metadata": {},
   "source": [
    "<div style=\"direction:rtl; font-size: 17px; font-family: 'XB Zar'; line-height: 200%\">\n",
    "<div>\n",
    "    همانطور که نشان داده شده است از 784 فیچر 191 فیچر باقی ماندند.(انحراف معیار بیشتر از 0.4 داشته اند)\n",
    "</div>\n",
    "</div>"
   ]
  },
  {
   "cell_type": "code",
   "execution_count": 11,
   "metadata": {
    "id": "AvGkdd0-07ub"
   },
   "outputs": [],
   "source": [
    "xtrain = train_set\n",
    "ytrain = train_label\n",
    "xtest = test_set\n",
    "ytest = test_label"
   ]
  },
  {
   "cell_type": "code",
   "execution_count": 12,
   "metadata": {
    "id": "55i5Xg1ZuqMf"
   },
   "outputs": [],
   "source": [
    "def eval_metrics(description, y_true, y_pred):\n",
    "  print(description)\n",
    "  print('Accuracy: {:.2f}'.format(metrics.accuracy_score(y_true, y_pred)))\n",
    "  print('Rand Index: {:.2f}'.format(metrics.rand_score(y_true, y_pred)))\n",
    "  print('------------------------')"
   ]
  },
  {
   "cell_type": "code",
   "execution_count": 74,
   "metadata": {
    "id": "OOJDKxHlt7Aq"
   },
   "outputs": [],
   "source": [
    "def decisionTree(xtrain, ytrain, xtest, ytest, criterion, max_depth=None, max_features=None):\n",
    "  dtc = DecisionTreeClassifier(criterion=criterion, max_depth=max_depth, max_features=max_features, random_state=0)\n",
    "  print(dtc)\n",
    "  t1 = time.time()\n",
    "  dtc.fit(xtrain, ytrain)\n",
    "  t2 = time.time()\n",
    "  print('time : ', t2 - t1)\n",
    "  y_pred = dtc.predict(xtest)\n",
    "  eval_metrics(\"criterion: \" + str(criterion) + \" max_depth: \" + str(max_depth) + \" max_features: \" + str(max_features), ytest, y_pred)"
   ]
  },
  {
   "cell_type": "markdown",
   "metadata": {},
   "source": [
    "<div id=\"section2\" style=\"direction:rtl; font-size: 17px; font-family: 'XB Zar'; line-height: 200%\">\n",
    "<div style=\"font-size: 22px; color: #ff6600; font-weight: bold\">\n",
    "decision tree\n",
    "</div>\n",
    "</div>"
   ]
  },
  {
   "cell_type": "code",
   "execution_count": 64,
   "metadata": {
    "colab": {
     "base_uri": "https://localhost:8080/"
    },
    "id": "wwSl6y_y9sn7",
    "outputId": "05a60342-df74-4f81-dd2e-2120f9d91262",
    "scrolled": true
   },
   "outputs": [
    {
     "name": "stdout",
     "output_type": "stream",
     "text": [
      "DecisionTreeClassifier(criterion='entropy', random_state=0)\n",
      "time :  11.891611337661743\n",
      "criterion: entropy max_depth: None max_features: None\n",
      "Accuracy: 0.88\n",
      "Rand Index: 0.96\n",
      "------------------------\n",
      "DecisionTreeClassifier(random_state=0)\n",
      "time :  9.581332206726074\n",
      "criterion: gini max_depth: None max_features: None\n",
      "Accuracy: 0.86\n",
      "Rand Index: 0.95\n",
      "------------------------\n"
     ]
    }
   ],
   "source": [
    "decisionTree(xtrain2, ytrain, xtest2, ytest, criterion = 'entropy')\n",
    "decisionTree(xtrain2, ytrain, xtest2, ytest, criterion = 'gini')"
   ]
  },
  {
   "cell_type": "code",
   "execution_count": 16,
   "metadata": {
    "colab": {
     "base_uri": "https://localhost:8080/"
    },
    "id": "OPb6zKRJ0Z_n",
    "outputId": "83661cec-22aa-4e41-9d69-5b07b4cd3438",
    "scrolled": true
   },
   "outputs": [
    {
     "name": "stdout",
     "output_type": "stream",
     "text": [
      "DecisionTreeClassifier(criterion='entropy', random_state=0)\n",
      "time :  22.710269689559937\n",
      "criterion: entropy max_depth: None max_features: None\n",
      "Accuracy: 0.88\n",
      "Rand Index: 0.96\n",
      "------------------------\n",
      "DecisionTreeClassifier(random_state=0)\n",
      "time :  23.624271392822266\n",
      "criterion: gini max_depth: None max_features: None\n",
      "Accuracy: 0.88\n",
      "Rand Index: 0.96\n",
      "------------------------\n"
     ]
    }
   ],
   "source": [
    "decisionTree(xtrain, ytrain, xtest, ytest, criterion = 'entropy')\n",
    "decisionTree(xtrain, ytrain, xtest, ytest, criterion = 'gini')"
   ]
  },
  {
   "cell_type": "markdown",
   "metadata": {},
   "source": [
    "<div style=\"direction:rtl; font-size: 17px; font-family: 'XB Zar'; line-height: 200%\">\n",
    "<div>\n",
    "    همانطور که مشاهده میشود حذف فیچر های با انحراف معیار کمتر از 0.4 موجب نصف شدن زمان اجرا میشود بدون تغییر در Accuracy \n",
    "    <br>\n",
    "    نوع criterion هم تفاوت چندانی ایجاد نمیکند بنابراین ازین جای کار به بعد entropy را برای criterion درنظر میگیریم که همان معیار انتخاب بهترین فیچر است که در کلاس تدریس شده   \n",
    "</div>\n",
    "</div>"
   ]
  },
  {
   "cell_type": "code",
   "execution_count": 68,
   "metadata": {
    "colab": {
     "base_uri": "https://localhost:8080/"
    },
    "id": "6JVKVSe1-IYP",
    "outputId": "f71ad4d8-9e2d-4fea-cb3c-82c3c211b54f"
   },
   "outputs": [
    {
     "name": "stdout",
     "output_type": "stream",
     "text": [
      "DecisionTreeClassifier(criterion='entropy', max_depth=14, random_state=0)\n",
      "time :  12.511010646820068\n",
      "criterion: entropy max_depth: 14 max_features: None\n",
      "Accuracy: 0.88\n",
      "Rand Index: 0.96\n",
      "------------------------\n"
     ]
    }
   ],
   "source": [
    "decisionTree(xtrain2, ytrain, xtest2, ytest, criterion = 'entropy', max_depth=14)"
   ]
  },
  {
   "cell_type": "code",
   "execution_count": 25,
   "metadata": {
    "colab": {
     "base_uri": "https://localhost:8080/"
    },
    "id": "isRBR3H73o8K",
    "outputId": "7e5cb3e2-c10f-42a8-8046-d3e4999e275e",
    "scrolled": false
   },
   "outputs": [
    {
     "name": "stdout",
     "output_type": "stream",
     "text": [
      "DecisionTreeClassifier(criterion='entropy', max_depth=14, random_state=0)\n",
      "time :  21.260932445526123\n",
      "criterion: entropy max_depth: 14 max_features: None\n",
      "Accuracy: 0.89\n",
      "Rand Index: 0.96\n",
      "------------------------\n",
      "DecisionTreeClassifier(criterion='entropy', random_state=0)\n",
      "time :  22.443628311157227\n",
      "criterion: entropy max_depth: None max_features: None\n",
      "Accuracy: 0.88\n",
      "Rand Index: 0.96\n",
      "------------------------\n",
      "DecisionTreeClassifier(criterion='entropy', max_depth=9, random_state=0)\n",
      "time :  15.076143503189087\n",
      "criterion: entropy max_depth: 9 max_features: None\n",
      "Accuracy: 0.86\n",
      "Rand Index: 0.95\n",
      "------------------------\n"
     ]
    }
   ],
   "source": [
    "decisionTree(xtrain, ytrain, xtest, ytest, criterion = 'entropy', max_depth=14)\n",
    "decisionTree(xtrain, ytrain, xtest, ytest, criterion = 'entropy')\n",
    "decisionTree(xtrain, ytrain, xtest, ytest, criterion = 'entropy', max_depth=9)"
   ]
  },
  {
   "cell_type": "markdown",
   "metadata": {},
   "source": [
    "<div style=\"direction:rtl; font-size: 17px; font-family: 'XB Zar'; line-height: 200%\">\n",
    "<div>\n",
    "    با افزایش مقدار max_depth به 14 شاهد افزایش Accuracy تا <span style=\"color: red\">89 درصد</span> \n",
    "    هستیم\n",
    "</div>\n",
    "</div>"
   ]
  },
  {
   "cell_type": "code",
   "execution_count": 23,
   "metadata": {
    "colab": {
     "base_uri": "https://localhost:8080/"
    },
    "id": "90wRcqFq4QZr",
    "outputId": "79c3e47b-e44b-4497-c8c0-40869237d4bc",
    "scrolled": true
   },
   "outputs": [
    {
     "name": "stdout",
     "output_type": "stream",
     "text": [
      "DecisionTreeClassifier(criterion='entropy', max_features='log2', random_state=0)\n",
      "time :  0.6413168907165527\n",
      "criterion: entropy max_depth: None max_features: log2\n",
      "Accuracy: 0.80\n",
      "Rand Index: 0.93\n",
      "------------------------\n",
      "DecisionTreeClassifier(criterion='entropy', max_features='sqrt', random_state=0)\n",
      "time :  1.285703182220459\n",
      "criterion: entropy max_depth: None max_features: sqrt\n",
      "Accuracy: 0.84\n",
      "Rand Index: 0.94\n",
      "------------------------\n",
      "DecisionTreeClassifier(criterion='entropy', random_state=0)\n",
      "time :  22.51461958885193\n",
      "criterion: entropy max_depth: None max_features: None\n",
      "Accuracy: 0.88\n",
      "Rand Index: 0.96\n",
      "------------------------\n"
     ]
    }
   ],
   "source": [
    "decisionTree(xtrain, ytrain, xtest, ytest, criterion = 'entropy', max_features='log2')\n",
    "decisionTree(xtrain, ytrain, xtest, ytest, criterion = 'entropy', max_features='sqrt')\n",
    "decisionTree(xtrain, ytrain, xtest, ytest, criterion = 'entropy')"
   ]
  },
  {
   "cell_type": "code",
   "execution_count": 20,
   "metadata": {
    "colab": {
     "base_uri": "https://localhost:8080/",
     "height": 357
    },
    "id": "QL55tpU-2rn0",
    "outputId": "77a366f5-42eb-4218-b643-6db8a42038ff"
   },
   "outputs": [
    {
     "name": "stdout",
     "output_type": "stream",
     "text": [
      "Requirement already satisfied: scikit-learn in /usr/local/lib/python3.7/dist-packages (0.22.2.post1)\n",
      "Collecting scikit-learn\n",
      "  Downloading scikit_learn-1.0.1-cp37-cp37m-manylinux_2_12_x86_64.manylinux2010_x86_64.whl (23.2 MB)\n",
      "\u001b[K     |████████████████████████████████| 23.2 MB 126 kB/s \n",
      "\u001b[?25hCollecting threadpoolctl>=2.0.0\n",
      "  Downloading threadpoolctl-3.0.0-py3-none-any.whl (14 kB)\n",
      "Requirement already satisfied: joblib>=0.11 in /usr/local/lib/python3.7/dist-packages (from scikit-learn) (1.1.0)\n",
      "Requirement already satisfied: numpy>=1.14.6 in /usr/local/lib/python3.7/dist-packages (from scikit-learn) (1.19.5)\n",
      "Requirement already satisfied: scipy>=1.1.0 in /usr/local/lib/python3.7/dist-packages (from scikit-learn) (1.4.1)\n",
      "Installing collected packages: threadpoolctl, scikit-learn\n",
      "  Attempting uninstall: scikit-learn\n",
      "    Found existing installation: scikit-learn 0.22.2.post1\n",
      "    Uninstalling scikit-learn-0.22.2.post1:\n",
      "      Successfully uninstalled scikit-learn-0.22.2.post1\n",
      "Successfully installed scikit-learn-1.0.1 threadpoolctl-3.0.0\n"
     ]
    },
    {
     "data": {
      "application/vnd.colab-display-data+json": {
       "pip_warning": {
        "packages": [
         "sklearn"
        ]
       }
      }
     },
     "metadata": {},
     "output_type": "display_data"
    }
   ],
   "source": [
    "!pip install -U scikit-learn"
   ]
  }
 ],
 "metadata": {
  "colab": {
   "collapsed_sections": [],
   "name": "CI-hw2.ipynb",
   "provenance": []
  },
  "kernelspec": {
   "display_name": "Python 3 (ipykernel)",
   "language": "python",
   "name": "python3"
  },
  "language_info": {
   "codemirror_mode": {
    "name": "ipython",
    "version": 3
   },
   "file_extension": ".py",
   "mimetype": "text/x-python",
   "name": "python",
   "nbconvert_exporter": "python",
   "pygments_lexer": "ipython3",
   "version": "3.9.7"
  }
 },
 "nbformat": 4,
 "nbformat_minor": 1
}
