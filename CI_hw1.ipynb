{
 "cells": [
  {
   "cell_type": "markdown",
   "metadata": {},
   "source": [
    "<div style=\"direction:rtl;line-height:300%;\"> <font face=\"XB Zar\">\n",
    "<div align=center>\n",
    "    <div style=\"font-size:14px\">\n",
    "    به نام خدا\n",
    "    </div><br>\n",
    "    <strong><div style=\"font-size:50px; color: blue\">\n",
    "    ci - hw1\n",
    "    </div></strong>\n",
    "    <br>\n",
    "    <div style=\"font-size:20px; color: #ff6600\">\n",
    "    مائده نادهی 9712762238\n",
    "    </div>\n",
    "</div>\n",
    "<hr>"
   ]
  },
  {
   "cell_type": "markdown",
   "metadata": {},
   "source": [
    "<div style=\"direction:rtl; font-size: 17px; font-family: 'XB Zar'; line-height: 200%\">\n",
    "<div style=\"font-size: 22px; color: #ff6600; font-weight: bold\">\n",
    "فهرست محتویات\n",
    "</div>         \n",
    "<ul style=\"margin-right: 0;\">\n",
    "    <li><a href=\"#section1\">preprocessing</a></li>\n",
    "    <li><a href=\"#section2\">Simple K-means</a></li>\n",
    "    <li><a href=\"#section3\">K-Means Optimisation</a></li>\n",
    "    <li><a href=\"#section4\">Mean-Shift</a></li>\n",
    "    <li><a href=\"#section5\">DBSCAN</a></li>\n",
    "    <li><a href=\"#section6\">Agglomerative</a></li>\n",
    "</ul>\n",
    "</div>"
   ]
  },
  {
   "cell_type": "code",
   "execution_count": 2,
   "metadata": {
    "id": "OB19ylpS9k_8"
   },
   "outputs": [],
   "source": [
    "import pandas as pd\n",
    "import numpy as np\n",
    "import time\n",
    "import matplotlib.pyplot as plt\n",
    "import seaborn as sns\n",
    "import math\n",
    "from sklearn import metrics\n",
    "from sklearn.cluster import OPTICS\n",
    "from sklearn.cluster import DBSCAN\n",
    "from sklearn.cluster import KMeans\n",
    "from sklearn.cluster import MiniBatchKMeans\n",
    "from sklearn.cluster import AgglomerativeClustering\n",
    "from sklearn.cluster import MeanShift, estimate_bandwidth\n",
    "from sklearn.preprocessing import StandardScaler\n",
    "from sklearn.decomposition import PCA"
   ]
  },
  {
   "cell_type": "code",
   "execution_count": 2,
   "metadata": {
    "colab": {
     "base_uri": "https://localhost:8080/"
    },
    "id": "v__JiISa9wFn",
    "outputId": "cf1ffc08-2c3d-4cab-9533-f5c9f20e9822"
   },
   "outputs": [
    {
     "name": "stdout",
     "output_type": "stream",
     "text": [
      "Mounted at /content/drive\n"
     ]
    }
   ],
   "source": [
    "from google.colab import drive\n",
    "drive.mount('/content/drive')"
   ]
  },
  {
   "cell_type": "code",
   "execution_count": 3,
   "metadata": {
    "colab": {
     "base_uri": "https://localhost:8080/"
    },
    "id": "lMMxSjV79zXL",
    "outputId": "b9f87eb0-6389-4764-e427-3fc00add1ec2"
   },
   "outputs": [
    {
     "name": "stdout",
     "output_type": "stream",
     "text": [
      "Archive:  /content/drive/MyDrive/MNIST dataset - train.zip\n",
      "  inflating: train_label.csv         \n",
      "  inflating: train_set.csv           \n"
     ]
    }
   ],
   "source": [
    "!unzip '/content/drive/MyDrive/MNIST dataset - train.zip'"
   ]
  },
  {
   "cell_type": "code",
   "execution_count": 3,
   "metadata": {
    "id": "yiMTbKp-92_K"
   },
   "outputs": [],
   "source": [
    "train_label = pd.read_csv(\"/content/train_label.csv\")\n",
    "train_label.rename(columns = {\"5\" : \"actual_labels\"}, inplace=True)\n",
    "train_label = train_label[\"actual_labels\"]\n",
    "train_set = pd.read_csv(\"/content/train_set.csv\")\n",
    "train_set.set_axis([i for i in range(0,784)], axis=1, inplace=True)"
   ]
  },
  {
   "cell_type": "markdown",
   "metadata": {},
   "source": [
    "<div id=\"section1\" style=\"direction:rtl; font-size: 17px; font-family: 'XB Zar'; line-height: 200%\">\n",
    "<div style=\"font-size: 22px; color: #ff6600; font-weight: bold\">\n",
    "preprocessing\n",
    "</div>\n",
    "<hr>\n",
    "<div>\n",
    "ابتدا بررسی میکنیم داده ی غیر معتبر NULL و NAN نداشته باشیم :\n",
    "</div>\n",
    "</div>"
   ]
  },
  {
   "cell_type": "code",
   "execution_count": 4,
   "metadata": {
    "colab": {
     "base_uri": "https://localhost:8080/"
    },
    "id": "qRgC-XlOHt2l",
    "outputId": "9dbebdb3-1ad8-4f3b-a6bf-52bad0730fb1"
   },
   "outputs": [
    {
     "data": {
      "text/plain": [
       "0"
      ]
     },
     "execution_count": 4,
     "metadata": {},
     "output_type": "execute_result"
    }
   ],
   "source": [
    "# how many null?\n",
    "train_set.isnull().sum().isnull().sum(axis = 0)"
   ]
  },
  {
   "cell_type": "markdown",
   "metadata": {},
   "source": [
    "<div style=\"direction:rtl; font-size: 17px; font-family: 'XB Zar'; line-height: 200%\">\n",
    "<div>\n",
    "تعداد زیادی(67) ستون تماما صفر داریم که این فیچر ها چون در همه ی data point مقدار برابر صفر دارند باعث ایجاد وجه تمایز بین data point ها نمیشود و میتوان آن ها را حذف نمود :\n",
    "</div>\n",
    "</div>"
   ]
  },
  {
   "cell_type": "code",
   "execution_count": 4,
   "metadata": {
    "colab": {
     "base_uri": "https://localhost:8080/"
    },
    "id": "4ZPA_POoTsCp",
    "outputId": "635018cb-7de7-44c8-fd1e-5244b214807f"
   },
   "outputs": [
    {
     "name": "stdout",
     "output_type": "stream",
     "text": [
      "number of zero columns :  67\n"
     ]
    }
   ],
   "source": [
    "X_282features = train_set.loc[:, train_set.std() > 0.3]\n",
    "\n",
    "# remove all zero columns\n",
    "zero_columns = []\n",
    "for i in range(0, len(train_set.columns)):\n",
    "    if train_set[i].sum() == 0:\n",
    "        zero_columns.append(i)\n",
    "print('number of zero columns : ', len(zero_columns))\n",
    "train_set.drop(train_set.columns[zero_columns], axis=1, inplace=True) "
   ]
  },
  {
   "cell_type": "markdown",
   "metadata": {},
   "source": [
    "<div style=\"direction:rtl; font-size: 17px; font-family: 'XB Zar'; line-height: 200%\">\n",
    "<div>\n",
    "   از بخش کوچکی از دیتا (یک شصتم) استفاده میکنیم که با استفاده از آن مقادیر مناسب هایپرپارامترها را حدس بزنیم همچنین برای مقایسه و انتخاب متد بهتر از این ساب ست استفاده میکنیم :\n",
    "</div>\n",
    "</div>"
   ]
  },
  {
   "cell_type": "code",
   "execution_count": 5,
   "metadata": {
    "id": "SPWQccZe9-Ti"
   },
   "outputs": [],
   "source": [
    "X = train_set[:1000]\n",
    "y_true = train_label[:1000]"
   ]
  },
  {
   "cell_type": "code",
   "execution_count": 6,
   "metadata": {
    "id": "E_f6zTyMBAGB"
   },
   "outputs": [],
   "source": [
    "def eval_metrics(description, n_clusters, y_true, y_pred):\n",
    "  print(description)\n",
    "  print('Number of clusters: {}'.format(n_clusters))\n",
    "  print('Accuracy: {:.2f}'.format(metrics.accuracy_score(y_true, y_pred)))\n",
    "  print('Rand Index: {:.2f}'.format(metrics.rand_score(y_true, y_pred)))\n",
    "  print('------------------------')\n",
    "\n",
    "def get_accuracy(y_true, y_pred):\n",
    "  return metrics.accuracy_score(y_true, y_pred)"
   ]
  },
  {
   "cell_type": "code",
   "execution_count": 7,
   "metadata": {
    "id": "TMvkvc2N-GEC"
   },
   "outputs": [],
   "source": [
    "def map_cluster(y_clusters, y, numClusters):\n",
    "    \"\"\"\n",
    "    Parameters:\n",
    "        y, a 1-D Numpy array containing true class numbers (integers between 0 and 10)\n",
    "        y_cluster, a 1-D Numpy array containing cluster numbers corresponding to each element of y\n",
    "        \n",
    "    Returns:\n",
    "        y_pred, a 1-D Numpy array mapping clusters to most common class in y \n",
    "    \"\"\"\n",
    "    y_pred = np.zeros(y_clusters.shape).astype(np.int32)\n",
    "    mapOfCluster = np.zeros(numClusters).astype(np.int32) * -1\n",
    "    # Map clusters to digits in mapOfClusters by choosing the digit most often associated with each cluster\n",
    "    for cluster in range(0, numClusters):\n",
    "        # Count number of true labels for each member in this cluster\n",
    "        count = np.bincount(y[y_clusters == cluster], minlength=10)\n",
    "        # Pick the index of the first max valuein count if there are more than max values\n",
    "        mapOfCluster[cluster] = np.argmax(count)\n",
    "\n",
    "    y_pred = mapOfCluster[y_clusters]\n",
    "    return y_pred"
   ]
  },
  {
   "cell_type": "code",
   "execution_count": 8,
   "metadata": {
    "id": "CxOz8bcETP8h"
   },
   "outputs": [],
   "source": [
    "def get_n_clusters(model):\n",
    "  labels = model.labels_\n",
    "  return len(np.unique(labels))"
   ]
  },
  {
   "cell_type": "code",
   "execution_count": 9,
   "metadata": {
    "colab": {
     "base_uri": "https://localhost:8080/"
    },
    "id": "wCBcqi1bFokW",
    "outputId": "873bb019-5b6f-4b2b-8351-cfc0582a8192"
   },
   "outputs": [
    {
     "name": "stdout",
     "output_type": "stream",
     "text": [
      "k :  10\n"
     ]
    }
   ],
   "source": [
    "k = len(np.unique(train_label))\n",
    "print('k : ', k)\n",
    "\n",
    "def k_means(X, y_true, n_clusters):\n",
    "  Kclustering = KMeans(n_clusters=n_clusters, random_state=0)\n",
    "  t1 = time.time()\n",
    "  Kclustering.fit(X)\n",
    "  t2 = time.time()\n",
    "  print('time : ', t2 - t1)\n",
    "  relabel = map_cluster(Kclustering.labels_, y_true, n_clusters)\n",
    "  eval_metrics(\"k-means clustering\", n_clusters, y_true, relabel)\n",
    "\n",
    "def miniBatchKMeans(X, y_true, n_clusters):\n",
    "  MBClustering = MiniBatchKMeans(n_clusters=n_clusters, random_state=0, batch_size=6)\n",
    "  t1 = time.time()\n",
    "  MBClustering.fit(X)\n",
    "  t2 = time.time()\n",
    "  print('time : ', t2 - t1)\n",
    "  relabel = map_cluster(MBClustering.labels_, y_true, n_clusters)\n",
    "  eval_metrics(\"mini batch k-means clustering\", n_clusters, y_true, relabel)"
   ]
  },
  {
   "cell_type": "code",
   "execution_count": 10,
   "metadata": {
    "id": "x2G0W7dJiPBe"
   },
   "outputs": [],
   "source": [
    "def mean_shift(X, y_true, quantile):\n",
    "  bandwidth = estimate_bandwidth(X, quantile=quantile, n_samples=(len(X)//3))\n",
    "  # MClustering = MeanShift(bandwidth=bandwidth, bin_seeding=True)\n",
    "  MClustering = MeanShift(bandwidth=bandwidth)\n",
    "  t1 = time.time()\n",
    "  MClustering.fit(X)\n",
    "  t2 = time.time()\n",
    "  print('time : ', t2 - t1)\n",
    "  n = get_n_clusters(MClustering)\n",
    "  relabel = map_cluster(MClustering.labels_, y_true, n)\n",
    "  eval_metrics(\"mean-shift clustering - quantile:\" + str(quantile) + \" - bandwidth:\" + str(bandwidth), n, y_true, relabel)"
   ]
  },
  {
   "cell_type": "code",
   "execution_count": 11,
   "metadata": {
    "id": "TciaK7HfE1l8"
   },
   "outputs": [],
   "source": [
    "def dbscan(X, y_true, epsilon, min_samples, print_it:bool):\n",
    "  DClustering = DBSCAN(eps=epsilon, min_samples=min_samples, n_jobs=-1)\n",
    "  t1 = time.time()\n",
    "  DClustering.fit(X)\n",
    "  t2 = time.time()\n",
    "  n = get_n_clusters(DClustering)\n",
    "  relabel = map_cluster(DClustering.labels_, y_true, n)\n",
    "  if print_it or get_accuracy(y_true, relabel) > 0.4:\n",
    "    print('time : ', t2 - t1)\n",
    "    eval_metrics(\"DBSCAN clustering - epsilon:\" + str(epsilon) + \" - min_samples:\" + str(min_samples), n, y_true, relabel)"
   ]
  },
  {
   "cell_type": "code",
   "execution_count": 12,
   "metadata": {
    "id": "H8edMwKT-Y4h"
   },
   "outputs": [],
   "source": [
    "def do_agglo_clustering(X, y_true, n_clusters, affinity, linkage):\n",
    "  Hclustering = AgglomerativeClustering(n_clusters=n_clusters, affinity=affinity, linkage=linkage)\n",
    "  t1 = time.time()\n",
    "  Hclustering.fit(X)\n",
    "  t2 = time.time()\n",
    "  #WE NEED TO MAP THE CLUSTERS TO THEIR RESPECTIVE TRUTH LABELS HERE (cluster, maplabel)\n",
    "  relabel = map_cluster(Hclustering.labels_, y_true, n_clusters)\n",
    "  print('time : ', t2 - t1)\n",
    "  eval_metrics(\"agglomerative clustering - \" + affinity + \" - \" + linkage, n_clusters, y_true, relabel)\n",
    "\n",
    "def agglomerative(X, y_true, n_clusters):\n",
    "  do_agglo_clustering(X, y_true, n_clusters,'euclidean', 'ward')\n",
    "  do_agglo_clustering(X, y_true, n_clusters,'euclidean', 'complete')\n",
    "  do_agglo_clustering(X, y_true, n_clusters,'euclidean', 'average')\n",
    "  do_agglo_clustering(X, y_true, n_clusters,'manhattan', 'average')\n",
    "  do_agglo_clustering(X, y_true, n_clusters,'cosine', 'average')"
   ]
  },
  {
   "cell_type": "markdown",
   "metadata": {},
   "source": [
    "<div style=\"direction:rtl; font-size: 17px; font-family: 'XB Zar'; line-height: 200%\">\n",
    "<div>\n",
    "    از pca برای کاهش بعد استفاده میکنیم (چهت سرعت محاسبات بالاتر مورد مقایسه قرار میگیرد اگر باعث کاهش purity نشود از دیتاست با ابعاد کوچک تر استفاده میکنیم چون زمان اجرای الگوریتم ها روی این دیتاست کمتر خواهد بود)\n",
    "</div>\n",
    "</div>"
   ]
  },
  {
   "cell_type": "code",
   "execution_count": 13,
   "metadata": {
    "colab": {
     "base_uri": "https://localhost:8080/"
    },
    "id": "Z5KMEz0p_tRi",
    "outputId": "29a1e102-debf-4be1-f79b-245866a488db"
   },
   "outputs": [
    {
     "name": "stdout",
     "output_type": "stream",
     "text": [
      "number of features :  59\n"
     ]
    }
   ],
   "source": [
    "def do_pca(n_components, data):\n",
    "    X = StandardScaler().fit_transform(data)\n",
    "    pca = PCA(n_components=n_components)\n",
    "    X_pca = pca.fit_transform(X)\n",
    "    # X_pca = StandardScaler().fit_transform(X_pca)\n",
    "    return pca, X_pca\n",
    "\n",
    "pca, X_pca = do_pca(59, X)   \n",
    "print('number of features : ', pca.n_components_) "
   ]
  },
  {
   "cell_type": "code",
   "execution_count": 14,
   "metadata": {
    "id": "08EwdXE29RQh"
   },
   "outputs": [],
   "source": [
    "pca2, train_set_pca = do_pca(59, train_set)"
   ]
  },
  {
   "cell_type": "code",
   "execution_count": 40,
   "metadata": {
    "colab": {
     "base_uri": "https://localhost:8080/",
     "height": 357
    },
    "id": "BUdzlCAJb16A",
    "outputId": "2000331e-a71e-444f-f6d6-9e3682116ba8"
   },
   "outputs": [
    {
     "name": "stdout",
     "output_type": "stream",
     "text": [
      "Requirement already satisfied: scikit-learn in /usr/local/lib/python3.7/dist-packages (0.22.2.post1)\n",
      "Collecting scikit-learn\n",
      "  Downloading scikit_learn-1.0.1-cp37-cp37m-manylinux_2_12_x86_64.manylinux2010_x86_64.whl (23.2 MB)\n",
      "\u001b[K     |████████████████████████████████| 23.2 MB 1.3 MB/s \n",
      "\u001b[?25hRequirement already satisfied: numpy>=1.14.6 in /usr/local/lib/python3.7/dist-packages (from scikit-learn) (1.19.5)\n",
      "Requirement already satisfied: joblib>=0.11 in /usr/local/lib/python3.7/dist-packages (from scikit-learn) (1.0.1)\n",
      "Requirement already satisfied: scipy>=1.1.0 in /usr/local/lib/python3.7/dist-packages (from scikit-learn) (1.4.1)\n",
      "Collecting threadpoolctl>=2.0.0\n",
      "  Downloading threadpoolctl-3.0.0-py3-none-any.whl (14 kB)\n",
      "Installing collected packages: threadpoolctl, scikit-learn\n",
      "  Attempting uninstall: scikit-learn\n",
      "    Found existing installation: scikit-learn 0.22.2.post1\n",
      "    Uninstalling scikit-learn-0.22.2.post1:\n",
      "      Successfully uninstalled scikit-learn-0.22.2.post1\n",
      "Successfully installed scikit-learn-1.0.1 threadpoolctl-3.0.0\n"
     ]
    },
    {
     "data": {
      "application/vnd.colab-display-data+json": {
       "pip_warning": {
        "packages": [
         "sklearn"
        ]
       }
      }
     },
     "metadata": {},
     "output_type": "display_data"
    }
   ],
   "source": [
    "!pip install -U scikit-learn"
   ]
  },
  {
   "cell_type": "markdown",
   "metadata": {},
   "source": [
    "<div id=\"section2\" style=\"direction:rtl; font-size: 17px; font-family: 'XB Zar'; line-height: 200%\">\n",
    "<div style=\"font-size: 22px; color: #ff6600; font-weight: bold\">\n",
    "Simple K-means\n",
    "</div>\n",
    "<hr>\n",
    "</div>"
   ]
  },
  {
   "cell_type": "code",
   "execution_count": 32,
   "metadata": {
    "colab": {
     "base_uri": "https://localhost:8080/"
    },
    "id": "P_N4eNmwEzsh",
    "outputId": "3800dda5-259d-4236-8d04-d682a7efbbff"
   },
   "outputs": [
    {
     "name": "stdout",
     "output_type": "stream",
     "text": [
      "time :  1.4952552318572998\n",
      "k-means clustering\n",
      "Number of clusters: 10\n",
      "Accuracy: 0.54\n",
      "Rand Index: 0.85\n",
      "------------------------\n",
      "time :  0.2023000717163086\n",
      "mini batch k-means clustering\n",
      "Number of clusters: 10\n",
      "Accuracy: 0.58\n",
      "Rand Index: 0.85\n",
      "------------------------\n",
      "time :  0.918381929397583\n",
      "k-means clustering\n",
      "Number of clusters: 10\n",
      "Accuracy: 0.46\n",
      "Rand Index: 0.84\n",
      "------------------------\n",
      "time :  0.01722884178161621\n",
      "mini batch k-means clustering\n",
      "Number of clusters: 10\n",
      "Accuracy: 0.49\n",
      "Rand Index: 0.85\n",
      "------------------------\n"
     ]
    }
   ],
   "source": [
    "# without pca\n",
    "k_means(X, y_true, k)\n",
    "miniBatchKMeans(X, y_true, k)\n",
    "\n",
    "# with pca\n",
    "k_means(X_pca, y_true, k)\n",
    "miniBatchKMeans(X_pca, y_true, k)\n",
    "\n",
    "# with df_282features"
   ]
  },
  {
   "cell_type": "markdown",
   "metadata": {},
   "source": [
    "<div style=\"direction:rtl; font-size: 17px; font-family: 'XB Zar'; line-height: 200%\">\n",
    "<div>\n",
    "    در نتیجه بهترین انتخاب : \n",
    "</div>\n",
    "</div>"
   ]
  },
  {
   "cell_type": "code",
   "execution_count": 230,
   "metadata": {
    "colab": {
     "base_uri": "https://localhost:8080/"
    },
    "id": "-N15WH207sTV",
    "outputId": "8c2bb430-27ee-4acc-97e0-3b0e863dafb4",
    "scrolled": false
   },
   "outputs": [
    {
     "name": "stdout",
     "output_type": "stream",
     "text": [
      "time :  2.5096120834350586\n",
      "mini batch k-means clustering\n",
      "Number of clusters: 10\n",
      "Accuracy: 0.56\n",
      "Rand Index: 0.85\n",
      "------------------------\n"
     ]
    }
   ],
   "source": [
    "# => without pca (better accuracy) & minibatch (faster)\n",
    "miniBatchKMeans(train_set, train_label, k)"
   ]
  },
  {
   "cell_type": "markdown",
   "metadata": {},
   "source": [
    "<div id=\"section3\" style=\"direction:rtl; font-size: 17px; font-family: 'XB Zar'; line-height: 200%\">\n",
    "<div style=\"font-size: 22px; color: #ff6600; font-weight: bold\">\n",
    "K-Means Optimisation\n",
    "</div>\n",
    "<hr>\n",
    "<div>\n",
    "برای بهبود، سعی می کنیم عملکرد را برای مقادیر مختلف k> 10 ببینیم. به این ترتیب، ارقام یک برچسب اما با ویژگی های متفاوت ممکن است بهتر خوشه بندی شوند. اگر اجازه \"split\" داده شود.\n",
    "\n",
    "</div>\n",
    "<div>\n",
    "    accuracy محاسبه می‌شود که مشاهده می‌کنیم که با مقدار k افزایش می‌یابد.\n",
    "    <span style=\"color: red\">مشاهده می شود که به accuracy نود و سه (93) درصد هم میرسد</span>\n",
    "</div>\n",
    "</div>"
   ]
  },
  {
   "cell_type": "code",
   "execution_count": 44,
   "metadata": {
    "colab": {
     "base_uri": "https://localhost:8080/"
    },
    "id": "8NczAdW9L_K_",
    "outputId": "40add208-5c93-41eb-c259-c57b9bec4cd3"
   },
   "outputs": [
    {
     "name": "stdout",
     "output_type": "stream",
     "text": [
      "time :  2.5496342182159424\n",
      "mini batch k-means clustering\n",
      "Number of clusters: 10\n",
      "Accuracy: 0.56\n",
      "Rand Index: 0.85\n",
      "------------------------\n",
      "time :  2.0078980922698975\n",
      "mini batch k-means clustering\n",
      "Number of clusters: 16\n",
      "Accuracy: 0.66\n",
      "Rand Index: 0.90\n",
      "------------------------\n",
      "time :  2.795400381088257\n",
      "mini batch k-means clustering\n",
      "Number of clusters: 32\n",
      "Accuracy: 0.72\n",
      "Rand Index: 0.92\n",
      "------------------------\n",
      "time :  0.9784281253814697\n",
      "mini batch k-means clustering\n",
      "Number of clusters: 128\n",
      "Accuracy: 0.73\n",
      "Rand Index: 0.91\n",
      "------------------------\n",
      "time :  2.341218948364258\n",
      "mini batch k-means clustering\n",
      "Number of clusters: 256\n",
      "Accuracy: 0.80\n",
      "Rand Index: 0.93\n",
      "------------------------\n"
     ]
    }
   ],
   "source": [
    "miniBatchKMeans(train_set, train_label, 10)\n",
    "miniBatchKMeans(train_set, train_label, 16)\n",
    "miniBatchKMeans(train_set, train_label, 32)\n",
    "miniBatchKMeans(train_set, train_label, 128)\n",
    "miniBatchKMeans(train_set, train_label, 256)"
   ]
  },
  {
   "cell_type": "markdown",
   "metadata": {},
   "source": [
    "<div id=\"section6\" style=\"direction:rtl; font-size: 17px; font-family: 'XB Zar'; line-height: 200%\">\n",
    "<div style=\"font-size: 22px; color: #ff6600; font-weight: bold\">\n",
    "Agglomerative\n",
    "</div>\n",
    "<hr>\n",
    "</div>"
   ]
  },
  {
   "cell_type": "code",
   "execution_count": 35,
   "metadata": {
    "colab": {
     "base_uri": "https://localhost:8080/"
    },
    "id": "Wpj2p9v5hZvT",
    "outputId": "ca905099-e053-428d-b313-6e4a10dbd1dd"
   },
   "outputs": [
    {
     "name": "stdout",
     "output_type": "stream",
     "text": [
      "time :  0.31000375747680664\n",
      "agglomerative clustering - euclidean - ward\n",
      "Number of clusters: 10\n",
      "Accuracy: 0.57\n",
      "Rand Index: 0.85\n",
      "------------------------\n",
      "time :  0.2957947254180908\n",
      "agglomerative clustering - euclidean - complete\n",
      "Number of clusters: 10\n",
      "Accuracy: 0.42\n",
      "Rand Index: 0.77\n",
      "------------------------\n",
      "time :  0.29579925537109375\n",
      "agglomerative clustering - euclidean - average\n",
      "Number of clusters: 10\n",
      "Accuracy: 0.29\n",
      "Rand Index: 0.42\n",
      "------------------------\n",
      "time :  0.3062312602996826\n",
      "agglomerative clustering - manhattan - average\n",
      "Number of clusters: 10\n",
      "Accuracy: 0.29\n",
      "Rand Index: 0.42\n",
      "------------------------\n",
      "time :  0.2979471683502197\n",
      "agglomerative clustering - cosine - average\n",
      "Number of clusters: 10\n",
      "Accuracy: 0.27\n",
      "Rand Index: 0.51\n",
      "------------------------\n"
     ]
    }
   ],
   "source": [
    "# without pca\n",
    "agglomerative(X, y_true, 10)"
   ]
  },
  {
   "cell_type": "code",
   "execution_count": 36,
   "metadata": {
    "colab": {
     "base_uri": "https://localhost:8080/"
    },
    "id": "_chjSgJMh6Ex",
    "outputId": "5282daea-0b3e-40aa-9c14-3d157621dbcc"
   },
   "outputs": [
    {
     "name": "stdout",
     "output_type": "stream",
     "text": [
      "time :  0.04931163787841797\n",
      "agglomerative clustering - euclidean - ward\n",
      "Number of clusters: 10\n",
      "Accuracy: 0.48\n",
      "Rand Index: 0.84\n",
      "------------------------\n",
      "time :  0.03660011291503906\n",
      "agglomerative clustering - euclidean - complete\n",
      "Number of clusters: 10\n",
      "Accuracy: 0.13\n",
      "Rand Index: 0.13\n",
      "------------------------\n",
      "time :  0.03689980506896973\n",
      "agglomerative clustering - euclidean - average\n",
      "Number of clusters: 10\n",
      "Accuracy: 0.13\n",
      "Rand Index: 0.12\n",
      "------------------------\n",
      "time :  0.03644227981567383\n",
      "agglomerative clustering - manhattan - average\n",
      "Number of clusters: 10\n",
      "Accuracy: 0.13\n",
      "Rand Index: 0.12\n",
      "------------------------\n",
      "time :  0.03510880470275879\n",
      "agglomerative clustering - cosine - average\n",
      "Number of clusters: 10\n",
      "Accuracy: 0.49\n",
      "Rand Index: 0.85\n",
      "------------------------\n"
     ]
    }
   ],
   "source": [
    "# with pca\n",
    "agglomerative(X_pca, y_true, 10)"
   ]
  },
  {
   "cell_type": "code",
   "execution_count": 15,
   "metadata": {
    "colab": {
     "base_uri": "https://localhost:8080/"
    },
    "id": "oXGgU2rc8iKD",
    "outputId": "d6dc812e-26c9-4818-9ded-ebd38099ab67"
   },
   "outputs": [
    {
     "name": "stdout",
     "output_type": "stream",
     "text": [
      "time :  158.0088987350464\n",
      "agglomerative clustering - euclidean - ward\n",
      "Number of clusters: 10\n",
      "Accuracy: 0.61\n",
      "Rand Index: 0.90\n",
      "------------------------\n",
      "time :  24.031623363494873\n",
      "agglomerative clustering - cosine - average\n",
      "Number of clusters: 10\n",
      "Accuracy: 0.59\n",
      "Rand Index: 0.88\n",
      "------------------------\n"
     ]
    }
   ],
   "source": [
    "# => euclidean - ward & without pca (better accuracy)\n",
    "do_agglo_clustering(train_set[:20000], train_label[:20000], 10, 'euclidean', 'ward')\n",
    "# => cosine - average & with pca (faster)\n",
    "do_agglo_clustering(train_set_pca[:20000], train_label[:20000], 10, 'cosine', 'average')"
   ]
  },
  {
   "cell_type": "markdown",
   "metadata": {},
   "source": [
    "<div id=\"section4\" style=\"direction:rtl; font-size: 17px; font-family: 'XB Zar'; line-height: 200%\">\n",
    "<div style=\"font-size: 22px; color: #ff6600; font-weight: bold\">\n",
    "Mean-Shift\n",
    "</div>\n",
    "<hr>\n",
    "</div>"
   ]
  },
  {
   "cell_type": "code",
   "execution_count": 66,
   "metadata": {
    "colab": {
     "base_uri": "https://localhost:8080/"
    },
    "id": "7c3QmMSiiIIP",
    "outputId": "6c29a3b8-e56a-431d-b9d5-3f86d87add4b"
   },
   "outputs": [
    {
     "name": "stdout",
     "output_type": "stream",
     "text": [
      "time :  26.036401510238647\n",
      "mean-shift clustering - quantile:0.2 - bandwidth:9.142767959197903\n",
      "Number of clusters: 1\n",
      "Accuracy: 0.12\n",
      "Rand Index: 0.10\n",
      "------------------------\n",
      "time :  22.71328568458557\n",
      "mean-shift clustering - quantile:0.5 - bandwidth:10.065149020488343\n",
      "Number of clusters: 1\n",
      "Accuracy: 0.12\n",
      "Rand Index: 0.10\n",
      "------------------------\n",
      "time :  18.53302526473999\n",
      "mean-shift clustering - quantile:0.7 - bandwidth:10.634405566827192\n",
      "Number of clusters: 1\n",
      "Accuracy: 0.12\n",
      "Rand Index: 0.10\n",
      "------------------------\n"
     ]
    }
   ],
   "source": [
    "# without pca\n",
    "mean_shift(X, y_true, 0.2)\n",
    "mean_shift(X, y_true, 0.5)\n",
    "mean_shift(X, y_true, 0.7)"
   ]
  },
  {
   "cell_type": "code",
   "execution_count": 78,
   "metadata": {
    "colab": {
     "base_uri": "https://localhost:8080/"
    },
    "id": "xRpvtFxilwiS",
    "outputId": "692f5778-cd9d-4a5c-c923-4de770892eee"
   },
   "outputs": [
    {
     "name": "stdout",
     "output_type": "stream",
     "text": [
      "time :  4.6385791301727295\n",
      "mean-shift clustering - quantile:0.2 - bandwidth:22.70615367230931\n",
      "Number of clusters: 48\n",
      "Accuracy: 0.20\n",
      "Rand Index: 0.24\n",
      "------------------------\n",
      "time :  4.538547039031982\n",
      "mean-shift clustering - quantile:0.5 - bandwidth:25.84077273399982\n",
      "Number of clusters: 32\n",
      "Accuracy: 0.16\n",
      "Rand Index: 0.17\n",
      "------------------------\n",
      "time :  4.626535177230835\n",
      "mean-shift clustering - quantile:0.7 - bandwidth:28.135176219133985\n",
      "Number of clusters: 29\n",
      "Accuracy: 0.15\n",
      "Rand Index: 0.16\n",
      "------------------------\n"
     ]
    }
   ],
   "source": [
    "# with pca\n",
    "mean_shift(X_pca, y_true, 0.2)\n",
    "mean_shift(X_pca, y_true, 0.5)\n",
    "mean_shift(X_pca, y_true, 0.7)"
   ]
  },
  {
   "cell_type": "code",
   "execution_count": 80,
   "metadata": {
    "id": "g4gEw5Hvot-R"
   },
   "outputs": [],
   "source": [
    "pca2, X_pca_2 = do_pca(2, X) #with 2 dimension"
   ]
  },
  {
   "cell_type": "code",
   "execution_count": 81,
   "metadata": {
    "colab": {
     "base_uri": "https://localhost:8080/"
    },
    "id": "hrrQQcI4pCos",
    "outputId": "8e092cc0-1fc6-41ec-d927-0aa387cebe0e"
   },
   "outputs": [
    {
     "name": "stdout",
     "output_type": "stream",
     "text": [
      "time :  9.484244585037231\n",
      "mean-shift clustering - quantile:0.1 - bandwidth:3.996780170203871\n",
      "Number of clusters: 10\n",
      "Accuracy: 0.24\n",
      "Rand Index: 0.62\n",
      "------------------------\n",
      "time :  5.644194602966309\n",
      "mean-shift clustering - quantile:0.3 - bandwidth:6.998810091228253\n",
      "Number of clusters: 2\n",
      "Accuracy: 0.16\n",
      "Rand Index: 0.23\n",
      "------------------------\n"
     ]
    }
   ],
   "source": [
    "# with pca2\n",
    "mean_shift(X_pca_2, y_true, 0.1)\n",
    "mean_shift(X_pca_2, y_true, 0.3)"
   ]
  },
  {
   "cell_type": "code",
   "execution_count": 31,
   "metadata": {
    "colab": {
     "base_uri": "https://localhost:8080/"
    },
    "id": "KyuX5AHmE3TJ",
    "outputId": "4fcd92ff-7d84-4f72-e1ea-f71c422fb1e2"
   },
   "outputs": [
    {
     "name": "stdout",
     "output_type": "stream",
     "text": [
      "time :  618.7734246253967\n",
      "mean-shift clustering - quantile:0.2 - bandwidth:22.63214451701725\n",
      "Number of clusters: 152\n",
      "Accuracy: 0.15\n",
      "Rand Index: 0.18\n",
      "------------------------\n"
     ]
    }
   ],
   "source": [
    "# => with pca (accuracy and faster)\n",
    "mean_shift(train_set_pca[:20000], train_label[:20000], 0.2)"
   ]
  },
  {
   "cell_type": "code",
   "execution_count": 45,
   "metadata": {
    "colab": {
     "base_uri": "https://localhost:8080/"
    },
    "id": "xbyisye9KHiE",
    "outputId": "682e485c-8e55-4d15-a832-9d65562dc600"
   },
   "outputs": [
    {
     "name": "stdout",
     "output_type": "stream",
     "text": [
      "time :  157.19813656806946\n",
      "mean-shift clustering - quantile:0.5 - bandwidth:25.459846756762172\n",
      "Number of clusters: 62\n",
      "Accuracy: 0.14\n",
      "Rand Index: 0.15\n",
      "------------------------\n",
      "time :  177.41390895843506\n",
      "mean-shift clustering - quantile:0.1 - bandwidth:20.66144011450685\n",
      "Number of clusters: 152\n",
      "Accuracy: 0.18\n",
      "Rand Index: 0.24\n",
      "------------------------\n"
     ]
    }
   ],
   "source": [
    "mean_shift(train_set_pca[:10000], train_label[:10000], 0.5)\n",
    "mean_shift(train_set_pca[:10000], train_label[:10000], 0.1)"
   ]
  },
  {
   "cell_type": "markdown",
   "metadata": {},
   "source": [
    "<div id=\"section5\" style=\"direction:rtl; font-size: 17px; font-family: 'XB Zar'; line-height: 200%\">\n",
    "<div style=\"font-size: 22px; color: #ff6600; font-weight: bold\">\n",
    "DBSCAN\n",
    "</div>\n",
    "<hr>\n",
    "</div>"
   ]
  },
  {
   "cell_type": "code",
   "execution_count": 223,
   "metadata": {
    "colab": {
     "base_uri": "https://localhost:8080/"
    },
    "id": "Du2mjJFuqA-J",
    "outputId": "a024e7c3-1d7f-4bde-da29-b35c7f713b60"
   },
   "outputs": [
    {
     "name": "stdout",
     "output_type": "stream",
     "text": [
      "bandwidth:  9\n",
      "time :  0.12993717193603516\n",
      "DBSCAN clustering - epsilon:5 - min_samples:2\n",
      "Number of clusters: 65\n",
      "Accuracy: 0.47\n",
      "Rand Index: 0.66\n",
      "------------------------\n",
      "time :  0.13017988204956055\n",
      "DBSCAN clustering - epsilon:5 - min_samples:3\n",
      "Number of clusters: 25\n",
      "Accuracy: 0.41\n",
      "Rand Index: 0.60\n",
      "------------------------\n"
     ]
    }
   ],
   "source": [
    "# without pca\n",
    "bandwidth = estimate_bandwidth(X, n_samples=(len(X)//3))\n",
    "bandwidth = math.floor(bandwidth)\n",
    "print('bandwidth: ', bandwidth)\n",
    "for eps in range(1, 2*bandwidth):\n",
    "  for minSample in range(2, (bandwidth)):\n",
    "    dbscan(X, y_true, epsilon=eps, min_samples=minSample, print_it=False)"
   ]
  },
  {
   "cell_type": "code",
   "execution_count": 228,
   "metadata": {
    "colab": {
     "base_uri": "https://localhost:8080/"
    },
    "id": "sbk_6i2fyQhW",
    "outputId": "48db3c74-cdc5-405d-b835-0c3d02c5c030"
   },
   "outputs": [
    {
     "name": "stdout",
     "output_type": "stream",
     "text": [
      "time :  0.11869621276855469\n",
      "DBSCAN clustering - epsilon:5 - min_samples:2\n",
      "Number of clusters: 14\n",
      "Accuracy: 0.21\n",
      "Rand Index: 0.29\n",
      "------------------------\n",
      "time :  0.11542320251464844\n",
      "DBSCAN clustering - epsilon:10 - min_samples:2\n",
      "Number of clusters: 39\n",
      "Accuracy: 0.32\n",
      "Rand Index: 0.61\n",
      "------------------------\n"
     ]
    }
   ],
   "source": [
    "# with pca \n",
    "dbscan(X_pca, y_true, epsilon=5, min_samples=2, print_it=True)\n",
    "dbscan(X_pca, y_true, epsilon=10, min_samples=2, print_it=True)"
   ]
  },
  {
   "cell_type": "code",
   "execution_count": 33,
   "metadata": {
    "colab": {
     "base_uri": "https://localhost:8080/"
    },
    "id": "3OdMiPqwIY18",
    "outputId": "57a1d421-09bd-4b3d-de6f-6643998386e3"
   },
   "outputs": [
    {
     "name": "stdout",
     "output_type": "stream",
     "text": [
      "9.500968533427843\n",
      "9.66163965427474\n"
     ]
    }
   ],
   "source": [
    "print(estimate_bandwidth(X, n_samples=(len(X)//3)))\n",
    "print(estimate_bandwidth(train_set[:20000], n_samples=(len(X)//3)))"
   ]
  },
  {
   "cell_type": "code",
   "execution_count": 42,
   "metadata": {
    "colab": {
     "base_uri": "https://localhost:8080/"
    },
    "id": "KPvnA_60H6rX",
    "outputId": "4bc80f08-db1e-429a-c0d8-1a1dc5954f2b"
   },
   "outputs": [
    {
     "name": "stdout",
     "output_type": "stream",
     "text": [
      "time :  27.847715616226196\n",
      "DBSCAN clustering - epsilon:5 - min_samples:3\n",
      "Number of clusters: 153\n",
      "Accuracy: 0.18\n",
      "Rand Index: 0.53\n",
      "------------------------\n"
     ]
    }
   ],
   "source": [
    "# => without pca (better accuracy)\n",
    "dbscan(train_set[:20000], train_label[:20000], epsilon=5, min_samples=3, print_it=True)"
   ]
  }
 ],
 "metadata": {
  "colab": {
   "collapsed_sections": [],
   "name": "CI-hw1.ipynb",
   "provenance": []
  },
  "kernelspec": {
   "display_name": "Python 3 (ipykernel)",
   "language": "python",
   "name": "python3"
  },
  "language_info": {
   "codemirror_mode": {
    "name": "ipython",
    "version": 3
   },
   "file_extension": ".py",
   "mimetype": "text/x-python",
   "name": "python",
   "nbconvert_exporter": "python",
   "pygments_lexer": "ipython3",
   "version": "3.9.7"
  }
 },
 "nbformat": 4,
 "nbformat_minor": 1
}
